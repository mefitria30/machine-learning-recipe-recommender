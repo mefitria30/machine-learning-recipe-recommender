{
 "cells": [
  {
   "cell_type": "code",
   "execution_count": 63,
   "id": "6f3e6efa-565f-4e9a-821f-5ed32a00b262",
   "metadata": {},
   "outputs": [],
   "source": [
    "import streamlit as st\n",
    "import pandas as pd\n",
    "import numpy as np\n",
    "import random\n",
    "import os  # Untuk menangani jalur file gambar\n",
    "from sklearn.feature_extraction.text import TfidfVectorizer\n",
    "from sklearn.naive_bayes import MultinomialNB\n",
    "from sklearn.cluster import KMeans\n",
    "import matplotlib.pyplot as plt"
   ]
  },
  {
   "cell_type": "code",
   "execution_count": 64,
   "id": "79c2a6b2-ca81-44ab-9a4f-a0c897c95a44",
   "metadata": {},
   "outputs": [],
   "source": [
    "# Load dataset\n",
    "data = pd.read_csv(\"dataset.csv\")"
   ]
  },
  {
   "cell_type": "code",
   "execution_count": 65,
   "id": "64fc106d-4e2a-4dd5-824f-c47374d058b0",
   "metadata": {},
   "outputs": [],
   "source": [
    "# Tambahkan kolom rating jika belum ada, lalu simpan agar permanen\n",
    "if 'rating' not in data.columns:\n",
    "    data['rating'] = np.random.randint(1, 6, size=len(data))\n",
    "    data.to_csv(\"dataset.csv\", index=False)  # Simpan ke file agar tetap konsisten"
   ]
  },
  {
   "cell_type": "code",
   "execution_count": 66,
   "id": "cd182f90-81b7-43c8-8225-d360bd367404",
   "metadata": {},
   "outputs": [],
   "source": [
    "# Pastikan membaca dataset terbaru setelah pembaruan rating\n",
    "data = pd.read_csv(\"dataset.csv\")\n"
   ]
  },
  {
   "cell_type": "code",
   "execution_count": 67,
   "id": "92113430-6312-44da-bca8-b53eaa6a7ac2",
   "metadata": {},
   "outputs": [
    {
     "data": {
      "text/plain": [
       "id             0\n",
       "name           0\n",
       "ingredients    6\n",
       "steps          0\n",
       "image          0\n",
       "rating         0\n",
       "dtype: int64"
      ]
     },
     "execution_count": 67,
     "metadata": {},
     "output_type": "execute_result"
    }
   ],
   "source": [
    "data.isnull().sum()\n"
   ]
  },
  {
   "cell_type": "code",
   "execution_count": 68,
   "id": "1838497b-8c88-43d8-94cb-4bf32438849f",
   "metadata": {},
   "outputs": [],
   "source": [
    "data.dropna(inplace=True)\n"
   ]
  },
  {
   "cell_type": "code",
   "execution_count": 69,
   "id": "40bf9362-2197-4446-a5f8-f8d47bb113a1",
   "metadata": {},
   "outputs": [
    {
     "data": {
      "text/plain": [
       "id             0\n",
       "name           0\n",
       "ingredients    0\n",
       "steps          0\n",
       "image          0\n",
       "rating         0\n",
       "dtype: int64"
      ]
     },
     "execution_count": 69,
     "metadata": {},
     "output_type": "execute_result"
    }
   ],
   "source": [
    "data.isnull().sum()"
   ]
  },
  {
   "cell_type": "code",
   "execution_count": 70,
   "id": "a21a8aea-2c22-4d56-b81d-8e6031c9eb9e",
   "metadata": {},
   "outputs": [
    {
     "data": {
      "text/plain": [
       "np.int64(0)"
      ]
     },
     "execution_count": 70,
     "metadata": {},
     "output_type": "execute_result"
    }
   ],
   "source": [
    "data.duplicated().sum()\n"
   ]
  },
  {
   "cell_type": "code",
   "execution_count": 71,
   "id": "a37f3721-e13b-4589-be07-ca2742c645ba",
   "metadata": {},
   "outputs": [],
   "source": [
    "data.drop_duplicates(inplace=True)\n"
   ]
  },
  {
   "cell_type": "code",
   "execution_count": 72,
   "id": "dee5da63-468c-443f-b2f0-f83405d38b17",
   "metadata": {},
   "outputs": [],
   "source": [
    "data['rating'] = pd.to_numeric(data['rating'], errors='coerce')\n"
   ]
  },
  {
   "cell_type": "code",
   "execution_count": 73,
   "id": "e4a952c6-47a8-40a3-813c-8e9dc9646741",
   "metadata": {},
   "outputs": [],
   "source": [
    "data = data[(data['rating'] >= 1) & (data['rating'] <= 5)]\n"
   ]
  },
  {
   "cell_type": "code",
   "execution_count": 74,
   "id": "4a931b5d-80b2-405c-b9ad-2c31bdb2d723",
   "metadata": {},
   "outputs": [],
   "source": [
    "# Rename columns\n",
    "data.rename(columns={'Unnamed: 0': 'id', 'Title': 'name', 'Ingredients': 'ingredients',\n",
    "                     'Instructions': 'steps', 'Image_Name': 'image'}, inplace=True)"
   ]
  },
  {
   "cell_type": "code",
   "execution_count": 75,
   "id": "f554adb0-c70d-470f-bc47-ee79dfc1131f",
   "metadata": {},
   "outputs": [],
   "source": [
    "# Pilih kolom yang relevan\n",
    "new_data = data[['id', 'name', 'ingredients', 'steps', 'image', 'rating']]\n"
   ]
  },
  {
   "cell_type": "code",
   "execution_count": 78,
   "id": "613669f0-e0ab-4642-80a5-4ae2c61539b8",
   "metadata": {},
   "outputs": [],
   "source": [
    "# Tetapkan cluster berdasarkan nilai rating dengan kategori baru\n",
    "new_data['cluster'] = np.where(new_data['rating'] == 1, 1, \n",
    "                        np.where(new_data['rating'] == 2, 2, \n",
    "                        np.where(new_data['rating'] == 3, 3, \n",
    "                        np.where(new_data['rating'] == 4, 4, 5)))) \n",
    "\n",
    "# Tetapkan label cluster sesuai rating yang diperbarui\n",
    "new_data['cluster_label'] = new_data['cluster'].map({\n",
    "    1: 'Boleh Dicoba',\n",
    "    2: 'Enak',\n",
    "    3: 'Lezat',\n",
    "    4: 'Populer',\n",
    "    5: 'Favorite!!!'\n",
    "})\n"
   ]
  },
  {
   "cell_type": "code",
   "execution_count": 82,
   "id": "5f0cc447-00a0-4bea-b883-ed2a4cca7005",
   "metadata": {},
   "outputs": [],
   "source": [
    "import re  \n",
    "\n",
    "new_data['ingredients'] = new_data['ingredients'].apply(lambda x: x.lower() if isinstance(x, str) else x)  \n",
    "new_data['ingredients'] = new_data['ingredients'].apply(lambda x: re.sub(r'[^a-zA-Z\\s,]', '', x) if isinstance(x, str) else x)  \n"
   ]
  },
  {
   "cell_type": "code",
   "execution_count": 83,
   "id": "8e2094ce-ee31-4c4b-9246-66fc1a164c86",
   "metadata": {},
   "outputs": [],
   "source": [
    "import ast  \n",
    "\n",
    "new_data['ingredients'] = new_data['ingredients'].apply(lambda x: ', '.join(ast.literal_eval(x)) if isinstance(x, str) and x.startswith('[') else x)\n"
   ]
  },
  {
   "cell_type": "code",
   "execution_count": 84,
   "id": "a3ef2900-504b-4a67-a655-f72a7e546bd1",
   "metadata": {},
   "outputs": [],
   "source": [
    "# Gunakan TF-IDF lebih optimal\n",
    "tfidf = TfidfVectorizer(stop_words='english', max_features=20000, ngram_range=(1, 3))\n",
    "X_ingredients = tfidf.fit_transform(new_data['ingredients'].values.astype('U'))"
   ]
  },
  {
   "cell_type": "code",
   "execution_count": 85,
   "id": "67f39018-8078-4c8e-970f-c43b86c5f906",
   "metadata": {},
   "outputs": [],
   "source": [
    "# Gunakan K-Means dengan cluster lebih optimal\n",
    "optimal_clusters = 10\n",
    "kmeans = KMeans(n_clusters=optimal_clusters, random_state=42)\n",
    "new_data['category_num'] = kmeans.fit_predict(X_ingredients)"
   ]
  },
  {
   "cell_type": "code",
   "execution_count": 86,
   "id": "e74064e7-0043-40af-a58f-cc5f9050c930",
   "metadata": {},
   "outputs": [],
   "source": [
    "# Pemetaan kategori lebih rinci berdasarkan ingredients\n",
    "def categorize_food(ingredients):\n",
    "    ingredients = ingredients.lower()\n",
    "\n",
    "    # 🍖 Daging & Protein Hewani\n",
    "    if any(item in ingredients for item in ['beef', 'lamb', 'pork', 'chicken', 'turkey', 'duck', 'bacon', 'sausage']):\n",
    "        return \"Meat-Based\"\n",
    "    elif any(item in ingredients for item in ['fish', 'shrimp', 'salmon', 'tuna', 'crab', 'mussels']):\n",
    "        return \"Seafood\"\n",
    "    \n",
    "    # 🥦 Sayuran & Tanaman\n",
    "    elif any(item in ingredients for item in ['spinach', 'kale', 'lettuce', 'broccoli', 'carrot', 'potato', 'tomato', 'cucumber', 'mushroom']):\n",
    "        return \"Vegetarian\"\n",
    "\n",
    "    # 🍚 Sumber Karbohidrat\n",
    "    elif any(item in ingredients for item in ['rice', 'oats', 'quinoa', 'barley', 'flour', 'bread', 'pasta', 'tortilla', 'sweet potato']):\n",
    "        return \"Bakery\"\n",
    "\n",
    "    # 🍶 Produk Susu & Alternatifnya\n",
    "    elif any(item in ingredients for item in ['milk', 'cheese', 'butter', 'yogurt', 'almond milk', 'soy milk']):\n",
    "        return \"Dairy-Based\"\n",
    "\n",
    "    # 🍯 Pemanis & Perasa\n",
    "    elif any(item in ingredients for item in ['sugar', 'honey', 'maple syrup', 'stevia', 'salt', 'pepper', 'garlic', 'cinnamon', 'basil', 'oregano']):\n",
    "        return \"Seasoning & Sweetener\"\n",
    "\n",
    "    # 🍩 Dessert & Bahan Kue\n",
    "    elif any(item in ingredients for item in ['chocolate', 'cocoa', 'vanilla', 'eggs', 'baking powder']):\n",
    "        return \"Dessert\"\n",
    "    \n",
    "    else:\n",
    "        return \"Other\""
   ]
  },
  {
   "cell_type": "code",
   "execution_count": 87,
   "id": "efb4fa8d-30fc-413a-a4b4-79a39cce8850",
   "metadata": {},
   "outputs": [],
   "source": [
    "new_data['category'] = new_data['ingredients'].apply(categorize_food)"
   ]
  },
  {
   "cell_type": "code",
   "execution_count": 88,
   "id": "2d0de213-1634-4527-9364-d7b9f4b14a19",
   "metadata": {},
   "outputs": [
    {
     "ename": "MemoryError",
     "evalue": "Unable to allocate 1.36 GiB for an array with shape (181926144,) and data type float64",
     "output_type": "error",
     "traceback": [
      "\u001b[1;31m---------------------------------------------------------------------------\u001b[0m",
      "\u001b[1;31mMemoryError\u001b[0m                               Traceback (most recent call last)",
      "Cell \u001b[1;32mIn[88], line 7\u001b[0m\n\u001b[0;32m      5\u001b[0m model_recommendation \u001b[38;5;241m=\u001b[39m MultinomialNB(alpha\u001b[38;5;241m=\u001b[39m\u001b[38;5;241m0.5\u001b[39m)\n\u001b[0;32m      6\u001b[0m y \u001b[38;5;241m=\u001b[39m np\u001b[38;5;241m.\u001b[39marange(\u001b[38;5;28mlen\u001b[39m(new_data))\n\u001b[1;32m----> 7\u001b[0m \u001b[43mmodel_recommendation\u001b[49m\u001b[38;5;241;43m.\u001b[39;49m\u001b[43mfit\u001b[49m\u001b[43m(\u001b[49m\u001b[43mX_name\u001b[49m\u001b[43m,\u001b[49m\u001b[43m \u001b[49m\u001b[43my\u001b[49m\u001b[43m)\u001b[49m\n",
      "File \u001b[1;32mC:\\Python310\\lib\\site-packages\\sklearn\\base.py:1473\u001b[0m, in \u001b[0;36m_fit_context.<locals>.decorator.<locals>.wrapper\u001b[1;34m(estimator, *args, **kwargs)\u001b[0m\n\u001b[0;32m   1466\u001b[0m     estimator\u001b[38;5;241m.\u001b[39m_validate_params()\n\u001b[0;32m   1468\u001b[0m \u001b[38;5;28;01mwith\u001b[39;00m config_context(\n\u001b[0;32m   1469\u001b[0m     skip_parameter_validation\u001b[38;5;241m=\u001b[39m(\n\u001b[0;32m   1470\u001b[0m         prefer_skip_nested_validation \u001b[38;5;129;01mor\u001b[39;00m global_skip_validation\n\u001b[0;32m   1471\u001b[0m     )\n\u001b[0;32m   1472\u001b[0m ):\n\u001b[1;32m-> 1473\u001b[0m     \u001b[38;5;28;01mreturn\u001b[39;00m fit_method(estimator, \u001b[38;5;241m*\u001b[39margs, \u001b[38;5;241m*\u001b[39m\u001b[38;5;241m*\u001b[39mkwargs)\n",
      "File \u001b[1;32mC:\\Python310\\lib\\site-packages\\sklearn\\naive_bayes.py:759\u001b[0m, in \u001b[0;36m_BaseDiscreteNB.fit\u001b[1;34m(self, X, y, sample_weight)\u001b[0m\n\u001b[0;32m    757\u001b[0m n_classes \u001b[38;5;241m=\u001b[39m Y\u001b[38;5;241m.\u001b[39mshape[\u001b[38;5;241m1\u001b[39m]\n\u001b[0;32m    758\u001b[0m \u001b[38;5;28mself\u001b[39m\u001b[38;5;241m.\u001b[39m_init_counters(n_classes, n_features)\n\u001b[1;32m--> 759\u001b[0m \u001b[38;5;28;43mself\u001b[39;49m\u001b[38;5;241;43m.\u001b[39;49m\u001b[43m_count\u001b[49m\u001b[43m(\u001b[49m\u001b[43mX\u001b[49m\u001b[43m,\u001b[49m\u001b[43m \u001b[49m\u001b[43mY\u001b[49m\u001b[43m)\u001b[49m\n\u001b[0;32m    760\u001b[0m alpha \u001b[38;5;241m=\u001b[39m \u001b[38;5;28mself\u001b[39m\u001b[38;5;241m.\u001b[39m_check_alpha()\n\u001b[0;32m    761\u001b[0m \u001b[38;5;28mself\u001b[39m\u001b[38;5;241m.\u001b[39m_update_feature_log_prob(alpha)\n",
      "File \u001b[1;32mC:\\Python310\\lib\\site-packages\\sklearn\\naive_bayes.py:882\u001b[0m, in \u001b[0;36mMultinomialNB._count\u001b[1;34m(self, X, Y)\u001b[0m\n\u001b[0;32m    880\u001b[0m \u001b[38;5;250m\u001b[39m\u001b[38;5;124;03m\"\"\"Count and smooth feature occurrences.\"\"\"\u001b[39;00m\n\u001b[0;32m    881\u001b[0m check_non_negative(X, \u001b[38;5;124m\"\u001b[39m\u001b[38;5;124mMultinomialNB (input X)\u001b[39m\u001b[38;5;124m\"\u001b[39m)\n\u001b[1;32m--> 882\u001b[0m \u001b[38;5;28mself\u001b[39m\u001b[38;5;241m.\u001b[39mfeature_count_ \u001b[38;5;241m+\u001b[39m\u001b[38;5;241m=\u001b[39m \u001b[43msafe_sparse_dot\u001b[49m\u001b[43m(\u001b[49m\u001b[43mY\u001b[49m\u001b[38;5;241;43m.\u001b[39;49m\u001b[43mT\u001b[49m\u001b[43m,\u001b[49m\u001b[43m \u001b[49m\u001b[43mX\u001b[49m\u001b[43m)\u001b[49m\n\u001b[0;32m    883\u001b[0m \u001b[38;5;28mself\u001b[39m\u001b[38;5;241m.\u001b[39mclass_count_ \u001b[38;5;241m+\u001b[39m\u001b[38;5;241m=\u001b[39m Y\u001b[38;5;241m.\u001b[39msum(axis\u001b[38;5;241m=\u001b[39m\u001b[38;5;241m0\u001b[39m)\n",
      "File \u001b[1;32mC:\\Python310\\lib\\site-packages\\sklearn\\utils\\extmath.py:205\u001b[0m, in \u001b[0;36msafe_sparse_dot\u001b[1;34m(a, b, dense_output)\u001b[0m\n\u001b[0;32m    203\u001b[0m         ret \u001b[38;5;241m=\u001b[39m np\u001b[38;5;241m.\u001b[39mdot(a, b)\n\u001b[0;32m    204\u001b[0m \u001b[38;5;28;01melse\u001b[39;00m:\n\u001b[1;32m--> 205\u001b[0m     ret \u001b[38;5;241m=\u001b[39m \u001b[43ma\u001b[49m\u001b[43m \u001b[49m\u001b[38;5;241;43m@\u001b[39;49m\u001b[43m \u001b[49m\u001b[43mb\u001b[49m\n\u001b[0;32m    207\u001b[0m \u001b[38;5;28;01mif\u001b[39;00m (\n\u001b[0;32m    208\u001b[0m     sparse\u001b[38;5;241m.\u001b[39missparse(a)\n\u001b[0;32m    209\u001b[0m     \u001b[38;5;129;01mand\u001b[39;00m sparse\u001b[38;5;241m.\u001b[39missparse(b)\n\u001b[0;32m    210\u001b[0m     \u001b[38;5;129;01mand\u001b[39;00m dense_output\n\u001b[0;32m    211\u001b[0m     \u001b[38;5;129;01mand\u001b[39;00m \u001b[38;5;28mhasattr\u001b[39m(ret, \u001b[38;5;124m\"\u001b[39m\u001b[38;5;124mtoarray\u001b[39m\u001b[38;5;124m\"\u001b[39m)\n\u001b[0;32m    212\u001b[0m ):\n\u001b[0;32m    213\u001b[0m     \u001b[38;5;28;01mreturn\u001b[39;00m ret\u001b[38;5;241m.\u001b[39mtoarray()\n",
      "File \u001b[1;32mC:\\Python310\\lib\\site-packages\\scipy\\sparse\\_base.py:675\u001b[0m, in \u001b[0;36m_spbase.__rmatmul__\u001b[1;34m(self, other)\u001b[0m\n\u001b[0;32m    672\u001b[0m \u001b[38;5;28;01mif\u001b[39;00m isscalarlike(other):\n\u001b[0;32m    673\u001b[0m     \u001b[38;5;28;01mraise\u001b[39;00m \u001b[38;5;167;01mValueError\u001b[39;00m(\u001b[38;5;124m\"\u001b[39m\u001b[38;5;124mScalar operands are not allowed, \u001b[39m\u001b[38;5;124m\"\u001b[39m\n\u001b[0;32m    674\u001b[0m                      \u001b[38;5;124m\"\u001b[39m\u001b[38;5;124muse \u001b[39m\u001b[38;5;124m'\u001b[39m\u001b[38;5;124m*\u001b[39m\u001b[38;5;124m'\u001b[39m\u001b[38;5;124m instead\u001b[39m\u001b[38;5;124m\"\u001b[39m)\n\u001b[1;32m--> 675\u001b[0m \u001b[38;5;28;01mreturn\u001b[39;00m \u001b[38;5;28;43mself\u001b[39;49m\u001b[38;5;241;43m.\u001b[39;49m\u001b[43m_rmatmul_dispatch\u001b[49m\u001b[43m(\u001b[49m\u001b[43mother\u001b[49m\u001b[43m)\u001b[49m\n",
      "File \u001b[1;32mC:\\Python310\\lib\\site-packages\\scipy\\sparse\\_base.py:656\u001b[0m, in \u001b[0;36m_spbase._rmatmul_dispatch\u001b[1;34m(self, other)\u001b[0m\n\u001b[0;32m    654\u001b[0m \u001b[38;5;28;01mexcept\u001b[39;00m \u001b[38;5;167;01mAttributeError\u001b[39;00m:\n\u001b[0;32m    655\u001b[0m     tr \u001b[38;5;241m=\u001b[39m np\u001b[38;5;241m.\u001b[39masarray(other)\u001b[38;5;241m.\u001b[39mtranspose()\n\u001b[1;32m--> 656\u001b[0m ret \u001b[38;5;241m=\u001b[39m \u001b[38;5;28;43mself\u001b[39;49m\u001b[38;5;241;43m.\u001b[39;49m\u001b[43mtranspose\u001b[49m\u001b[43m(\u001b[49m\u001b[43m)\u001b[49m\u001b[38;5;241;43m.\u001b[39;49m\u001b[43m_matmul_dispatch\u001b[49m\u001b[43m(\u001b[49m\u001b[43mtr\u001b[49m\u001b[43m)\u001b[49m\n\u001b[0;32m    657\u001b[0m \u001b[38;5;28;01mif\u001b[39;00m ret \u001b[38;5;129;01mis\u001b[39;00m \u001b[38;5;28mNotImplemented\u001b[39m:\n\u001b[0;32m    658\u001b[0m     \u001b[38;5;28;01mreturn\u001b[39;00m \u001b[38;5;28mNotImplemented\u001b[39m\n",
      "File \u001b[1;32mC:\\Python310\\lib\\site-packages\\scipy\\sparse\\_base.py:571\u001b[0m, in \u001b[0;36m_spbase._matmul_dispatch\u001b[1;34m(self, other)\u001b[0m\n\u001b[0;32m    569\u001b[0m         \u001b[38;5;28;01mreturn\u001b[39;00m result\u001b[38;5;241m.\u001b[39mreshape(M, \u001b[38;5;241m1\u001b[39m)\n\u001b[0;32m    570\u001b[0m     \u001b[38;5;28;01melif\u001b[39;00m other\u001b[38;5;241m.\u001b[39mndim \u001b[38;5;241m==\u001b[39m \u001b[38;5;241m2\u001b[39m \u001b[38;5;129;01mand\u001b[39;00m other\u001b[38;5;241m.\u001b[39mshape[\u001b[38;5;241m0\u001b[39m] \u001b[38;5;241m==\u001b[39m N:\n\u001b[1;32m--> 571\u001b[0m         \u001b[38;5;28;01mreturn\u001b[39;00m \u001b[38;5;28;43mself\u001b[39;49m\u001b[38;5;241;43m.\u001b[39;49m\u001b[43m_matmul_multivector\u001b[49m\u001b[43m(\u001b[49m\u001b[43mother\u001b[49m\u001b[43m)\u001b[49m\n\u001b[0;32m    573\u001b[0m \u001b[38;5;28;01mif\u001b[39;00m isscalarlike(other):\n\u001b[0;32m    574\u001b[0m     \u001b[38;5;66;03m# scalar value\u001b[39;00m\n\u001b[0;32m    575\u001b[0m     \u001b[38;5;28;01mreturn\u001b[39;00m \u001b[38;5;28mself\u001b[39m\u001b[38;5;241m.\u001b[39m_mul_scalar(other)\n",
      "File \u001b[1;32mC:\\Python310\\lib\\site-packages\\scipy\\sparse\\_compressed.py:505\u001b[0m, in \u001b[0;36m_cs_matrix._matmul_multivector\u001b[1;34m(self, other)\u001b[0m\n\u001b[0;32m    503\u001b[0m \u001b[38;5;66;03m# csr_matvecs or csc_matvecs\u001b[39;00m\n\u001b[0;32m    504\u001b[0m fn \u001b[38;5;241m=\u001b[39m \u001b[38;5;28mgetattr\u001b[39m(_sparsetools, \u001b[38;5;28mself\u001b[39m\u001b[38;5;241m.\u001b[39mformat \u001b[38;5;241m+\u001b[39m \u001b[38;5;124m'\u001b[39m\u001b[38;5;124m_matvecs\u001b[39m\u001b[38;5;124m'\u001b[39m)\n\u001b[1;32m--> 505\u001b[0m \u001b[43mfn\u001b[49m\u001b[43m(\u001b[49m\u001b[43mM\u001b[49m\u001b[43m,\u001b[49m\u001b[43m \u001b[49m\u001b[43mN\u001b[49m\u001b[43m,\u001b[49m\u001b[43m \u001b[49m\u001b[43mn_vecs\u001b[49m\u001b[43m,\u001b[49m\u001b[43m \u001b[49m\u001b[38;5;28;43mself\u001b[39;49m\u001b[38;5;241;43m.\u001b[39;49m\u001b[43mindptr\u001b[49m\u001b[43m,\u001b[49m\u001b[43m \u001b[49m\u001b[38;5;28;43mself\u001b[39;49m\u001b[38;5;241;43m.\u001b[39;49m\u001b[43mindices\u001b[49m\u001b[43m,\u001b[49m\u001b[43m \u001b[49m\u001b[38;5;28;43mself\u001b[39;49m\u001b[38;5;241;43m.\u001b[39;49m\u001b[43mdata\u001b[49m\u001b[43m,\u001b[49m\n\u001b[0;32m    506\u001b[0m \u001b[43m   \u001b[49m\u001b[43mother\u001b[49m\u001b[38;5;241;43m.\u001b[39;49m\u001b[43mravel\u001b[49m\u001b[43m(\u001b[49m\u001b[43m)\u001b[49m\u001b[43m,\u001b[49m\u001b[43m \u001b[49m\u001b[43mresult\u001b[49m\u001b[38;5;241;43m.\u001b[39;49m\u001b[43mravel\u001b[49m\u001b[43m(\u001b[49m\u001b[43m)\u001b[49m\u001b[43m)\u001b[49m\n\u001b[0;32m    508\u001b[0m \u001b[38;5;28;01mif\u001b[39;00m \u001b[38;5;28mself\u001b[39m\u001b[38;5;241m.\u001b[39mndim \u001b[38;5;241m==\u001b[39m \u001b[38;5;241m1\u001b[39m:\n\u001b[0;32m    509\u001b[0m     \u001b[38;5;28;01mreturn\u001b[39;00m result\u001b[38;5;241m.\u001b[39mreshape((n_vecs,))\n",
      "\u001b[1;31mMemoryError\u001b[0m: Unable to allocate 1.36 GiB for an array with shape (181926144,) and data type float64"
     ]
    }
   ],
   "source": [
    "# Gunakan Naïve Bayes untuk rekomendasi\n",
    "cv = TfidfVectorizer(max_features=20000, stop_words='english', ngram_range=(1, 3))\n",
    "X_name = cv.fit_transform(new_data['name'].values.astype('U'))\n",
    "\n",
    "model_recommendation = MultinomialNB(alpha=0.5)\n",
    "y = np.arange(len(new_data))\n",
    "model_recommendation.fit(X_name, y)"
   ]
  },
  {
   "cell_type": "code",
   "execution_count": 57,
   "id": "1c12b078-8fe9-4b05-81ad-08e7664c4157",
   "metadata": {},
   "outputs": [
    {
     "name": "stderr",
     "output_type": "stream",
     "text": [
      "2025-06-07 19:49:43.891 Thread 'MainThread': missing ScriptRunContext! This warning can be ignored when running in bare mode.\n",
      "2025-06-07 19:49:43.897 Thread 'MainThread': missing ScriptRunContext! This warning can be ignored when running in bare mode.\n"
     ]
    },
    {
     "data": {
      "text/plain": [
       "DeltaGenerator()"
      ]
     },
     "execution_count": 57,
     "metadata": {},
     "output_type": "execute_result"
    }
   ],
   "source": [
    "# **Streamlit UI**\n",
    "st.title(\"🔍 Sistem Rekomendasi Makanan\")"
   ]
  },
  {
   "cell_type": "code",
   "execution_count": 58,
   "id": "e89ef8e5-856a-49e7-af37-4392a2d9558e",
   "metadata": {},
   "outputs": [],
   "source": [
    "# Tentukan folder gambar\n",
    "image_folder = \"Food Images\""
   ]
  },
  {
   "cell_type": "code",
   "execution_count": 59,
   "id": "ba1fa6b3-78bd-47c2-aa44-0a6787629c3b",
   "metadata": {},
   "outputs": [
    {
     "name": "stderr",
     "output_type": "stream",
     "text": [
      "2025-06-07 19:49:47.639 Thread 'MainThread': missing ScriptRunContext! This warning can be ignored when running in bare mode.\n",
      "2025-06-07 19:49:47.642 Thread 'MainThread': missing ScriptRunContext! This warning can be ignored when running in bare mode.\n",
      "2025-06-07 19:49:47.643 Thread 'MainThread': missing ScriptRunContext! This warning can be ignored when running in bare mode.\n",
      "2025-06-07 19:49:47.649 Thread 'MainThread': missing ScriptRunContext! This warning can be ignored when running in bare mode.\n",
      "2025-06-07 19:49:47.652 Thread 'MainThread': missing ScriptRunContext! This warning can be ignored when running in bare mode.\n",
      "2025-06-07 19:49:47.655 Thread 'MainThread': missing ScriptRunContext! This warning can be ignored when running in bare mode.\n"
     ]
    }
   ],
   "source": [
    "# Pilihan pencarian\n",
    "search_option = st.radio(\"Pilih metode pencarian:\", [\"Cari berdasarkan nama\", \"Cari berdasarkan kategori\", \"Cari berdasarkan cluster\"])"
   ]
  },
  {
   "cell_type": "code",
   "execution_count": 60,
   "id": "efe88327-8a6d-4dc4-b826-f6bdec639b20",
   "metadata": {},
   "outputs": [],
   "source": [
    "# Fungsi untuk memberi warna berdasarkan rating\n",
    "def color_rating(val):\n",
    "    color = \"#FFCCCB\" if int(val) <= 3 else \"#C6E5B3\"\n",
    "    return f\"background-color: {color};\""
   ]
  },
  {
   "cell_type": "code",
   "execution_count": 61,
   "id": "c858b063-a9f5-4fc6-bb7b-e9f1bd13be34",
   "metadata": {},
   "outputs": [],
   "source": [
    "# Fungsi untuk mendapatkan jalur gambar dengan pengecekan format\n",
    "def get_image_path(image_name):\n",
    "    for ext in [\".jpg\", \".png\", \".jpeg\"]:  # Coba beberapa kemungkinan format\n",
    "        image_path = os.path.join(image_folder, image_name + ext)\n",
    "        if os.path.exists(image_path):\n",
    "            return image_path\n",
    "    return None"
   ]
  },
  {
   "cell_type": "code",
   "execution_count": 62,
   "id": "f0b29632-1170-4dba-b356-7c044dc52975",
   "metadata": {},
   "outputs": [
    {
     "name": "stderr",
     "output_type": "stream",
     "text": [
      "2025-06-07 19:49:52.734 Thread 'MainThread': missing ScriptRunContext! This warning can be ignored when running in bare mode.\n",
      "2025-06-07 19:49:52.739 Thread 'MainThread': missing ScriptRunContext! This warning can be ignored when running in bare mode.\n",
      "2025-06-07 19:49:52.742 Thread 'MainThread': missing ScriptRunContext! This warning can be ignored when running in bare mode.\n",
      "2025-06-07 19:49:52.744 Thread 'MainThread': missing ScriptRunContext! This warning can be ignored when running in bare mode.\n",
      "2025-06-07 19:49:52.746 Thread 'MainThread': missing ScriptRunContext! This warning can be ignored when running in bare mode.\n",
      "2025-06-07 19:49:52.747 Thread 'MainThread': missing ScriptRunContext! This warning can be ignored when running in bare mode.\n"
     ]
    }
   ],
   "source": [
    "if search_option == \"Cari berdasarkan nama\":\n",
    "    food_name = st.text_input(\"Masukkan nama makanan:\")\n",
    "    if food_name:\n",
    "        query_vec = cv.transform([food_name.lower()])\n",
    "        predicted_probs = model_recommendation.predict_proba(query_vec)[0]\n",
    "        top_5_indices = np.argsort(predicted_probs)[-5:][::-1]\n",
    "        recommended_items = new_data.iloc[top_5_indices].dropna().reset_index(drop=True)\n",
    "\n",
    "        st.subheader(f\"🍽️ Rekomendasi untuk: {food_name}\")\n",
    "\n",
    "        for _, row in recommended_items.iterrows():\n",
    "            image_path = get_image_path(row['image'].split('.')[0])  # Hapus ekstensi jika ada\n",
    "            if image_path:\n",
    "                html_code1 = f\"\"\"\n",
    "                    <h1><span style='text-weight: bold;'>{row['name']}</span></h1>\n",
    "                \"\"\"\n",
    "                st.markdown(html_code1, unsafe_allow_html=True)\n",
    "                st.image(image_path, caption=row['name'])\n",
    "\n",
    "                ingredients_list = row['ingredients'].split(',')\n",
    "                html_code_ingredients = \"<ul>\"\n",
    "                for ingredient in ingredients_list:\n",
    "                    if ingredient.strip():  # Menghindari elemen kosong\n",
    "                        html_code_ingredients += f\"<li>{ingredient.strip()}</li>\"\n",
    "                html_code_ingredients += \"</ul>\"\n",
    "\n",
    "                steps_list = row['steps'].split('.')\n",
    "                html_code_steps = \"<ul>\"\n",
    "                for step in steps_list:\n",
    "                    if step.strip():  # Menghindari elemen kosong\n",
    "                        html_code_steps += f\"<li>{step.strip()}</li>\"\n",
    "                html_code_steps += \"</ul>\"\n",
    "\n",
    "                html_code = f\"\"\"\n",
    "                    <table border=\"1\">\n",
    "                        <tr>\n",
    "                            <td>Category:</td>\n",
    "                            <td>{row['category']}</td>\n",
    "                        </tr>                        \n",
    "                        <tr>\n",
    "                            <td>Ingredients:</td>\n",
    "                            <td>{html_code_ingredients}</td>\n",
    "                        </tr>\n",
    "                        <tr>\n",
    "                            <td>Steps:</td>\n",
    "                            <td>{html_code_steps}</td>\n",
    "                        </tr>\n",
    "                        <tr>\n",
    "                            <td>Rating:</td>\n",
    "                            <td>{row['rating']}</td>\n",
    "                        </tr>\n",
    "                        <tr>\n",
    "                            <td>Cluster:</td>\n",
    "                            <td>{row['cluster_label']}</td>\n",
    "                        </tr>\n",
    "                    </table>\n",
    "                \"\"\"\n",
    "                st.markdown(html_code, unsafe_allow_html=True)\n",
    "                st.divider()\n",
    "                st.divider()\n",
    "            else:\n",
    "                st.write(f\"⚠️ Gambar tidak ditemukan: {row['image']}\")\n",
    "\n",
    "        # st.dataframe(recommended_items.style.applymap(color_rating, subset=['rating']), width=900)\n",
    "elif search_option == \"Cari berdasarkan kategori\":\n",
    "    category_name = st.selectbox(\"Pilih kategori:\", new_data['category'].unique())\n",
    "    if category_name:\n",
    "        matching_items = new_data[new_data['category'] == category_name].sample(5).dropna().reset_index(drop=True)\n",
    "\n",
    "        st.subheader(f\"Makanan dalam kategori '{category_name}':\")\n",
    "\n",
    "        for _, row in matching_items.iterrows():\n",
    "            image_path = get_image_path(row['image'].split('.')[0])\n",
    "            if image_path:\n",
    "                html_code1 = f\"\"\"\n",
    "                    <h1><span style='text-weight: bold;'>{row['name']}</span></h1>\n",
    "                \"\"\"\n",
    "                st.markdown(html_code1, unsafe_allow_html=True)\n",
    "                st.image(image_path, caption=row['name'])\n",
    "\n",
    "                ingredients_list = row['ingredients'].split(',')\n",
    "                html_code_ingredients = \"<ul>\"\n",
    "                for ingredient in ingredients_list:\n",
    "                    if ingredient.strip():  # Menghindari elemen kosong\n",
    "                        html_code_ingredients += f\"<li>{ingredient.strip()}</li>\"\n",
    "                html_code_ingredients += \"</ul>\"\n",
    "\n",
    "                steps_list = row['steps'].split('.')\n",
    "                html_code_steps = \"<ul>\"\n",
    "                for step in steps_list:\n",
    "                    if step.strip():  # Menghindari elemen kosong\n",
    "                        html_code_steps += f\"<li>{step.strip()}</li>\"\n",
    "                html_code_steps += \"</ul>\"\n",
    "\n",
    "                html_code = f\"\"\"\n",
    "                    <table border=\"1\">\n",
    "                        <tr>\n",
    "                            <td>Category:</td>\n",
    "                            <td>{row['category']}</td>\n",
    "                        </tr>                        \n",
    "                        <tr>\n",
    "                            <td>Ingredients:</td>\n",
    "                            <td>{html_code_ingredients}</td>\n",
    "                        </tr>\n",
    "                        <tr>\n",
    "                            <td>Steps:</td>\n",
    "                            <td>{html_code_steps}</td>\n",
    "                        </tr>\n",
    "                        <tr>\n",
    "                            <td>Rating:</td>\n",
    "                            <td>{row['rating']}</td>\n",
    "                        </tr>\n",
    "                        <tr>\n",
    "                            <td>Cluster:</td>\n",
    "                            <td>{row['cluster_label']}</td>\n",
    "                        </tr>\n",
    "                    </table>\n",
    "                \"\"\"\n",
    "                st.markdown(html_code, unsafe_allow_html=True)\n",
    "                st.divider()\n",
    "                st.divider()\n",
    "            else:\n",
    "                st.write(f\"⚠️ Gambar tidak ditemukan: {row['image']}\")\n",
    "\n",
    "        # st.dataframe(matching_items.style.applymap(color_rating, subset=['rating']), width=900)\n",
    "elif search_option == \"Cari berdasarkan cluster\":\n",
    "    cluster_label = st.selectbox(\"Pilih cluster:\", new_data['cluster_label'].unique())\n",
    "    if cluster_label:\n",
    "        matching_items = new_data[new_data['cluster_label'] == cluster_label].sample(5).dropna().reset_index(drop=True)\n",
    "\n",
    "        st.subheader(f\"Makanan dalam cluster '{cluster_label}':\")\n",
    "\n",
    "        for _, row in matching_items.iterrows():\n",
    "            image_path = get_image_path(row['image'].split('.')[0])\n",
    "            if image_path:\n",
    "                html_code1 = f\"\"\"\n",
    "                    <h1><span style='text-weight: bold;'>{row['name']}</span></h1>\n",
    "                \"\"\"\n",
    "                st.markdown(html_code1, unsafe_allow_html=True)\n",
    "                st.image(image_path, caption=row['name'])\n",
    "\n",
    "                ingredients_list = row['ingredients'].split(',')\n",
    "                html_code_ingredients = \"<ul>\"\n",
    "                for ingredient in ingredients_list:\n",
    "                    if ingredient.strip():  # Menghindari elemen kosong\n",
    "                        html_code_ingredients += f\"<li>{ingredient.strip()}</li>\"\n",
    "                html_code_ingredients += \"</ul>\"\n",
    "\n",
    "                steps_list = row['steps'].split('.')\n",
    "                html_code_steps = \"<ul>\"\n",
    "                for step in steps_list:\n",
    "                    if step.strip():  # Menghindari elemen kosong\n",
    "                        html_code_steps += f\"<li>{step.strip()}</li>\"\n",
    "                html_code_steps += \"</ul>\"\n",
    "\n",
    "                html_code = f\"\"\"\n",
    "                    <table border=\"1\">\n",
    "                        <tr>\n",
    "                            <td>Category:</td>\n",
    "                            <td>{row['category']}</td>\n",
    "                        </tr>                        \n",
    "                        <tr>\n",
    "                            <td>Ingredients:</td>\n",
    "                            <td>{html_code_ingredients}</td>\n",
    "                        </tr>\n",
    "                        <tr>\n",
    "                            <td>Steps:</td>\n",
    "                            <td>{html_code_steps}</td>\n",
    "                        </tr>\n",
    "                        <tr>\n",
    "                            <td>Rating:</td>\n",
    "                            <td>{row['rating']}</td>\n",
    "                        </tr>\n",
    "                        <tr>\n",
    "                            <td>Cluster:</td>\n",
    "                            <td>{row['cluster_label']}</td>\n",
    "                        </tr>\n",
    "                    </table>\n",
    "                \"\"\"\n",
    "                st.markdown(html_code, unsafe_allow_html=True)\n",
    "                st.divider()\n",
    "                st.divider()\n",
    "            else:\n",
    "                st.write(f\"⚠️ Gambar tidak ditemukan: {row['image']}\")\n",
    "\n",
    "        # st.dataframe(matching_items.style.applymap(color_rating, subset=['rating']), width=900)\n",
    "\n"
   ]
  },
  {
   "cell_type": "code",
   "execution_count": null,
   "id": "3a9eac4b-f27c-4d0a-88b0-cc3e105b8072",
   "metadata": {},
   "outputs": [],
   "source": []
  }
 ],
 "metadata": {
  "kernelspec": {
   "display_name": "Python 3 (ipykernel)",
   "language": "python",
   "name": "python3"
  },
  "language_info": {
   "codemirror_mode": {
    "name": "ipython",
    "version": 3
   },
   "file_extension": ".py",
   "mimetype": "text/x-python",
   "name": "python",
   "nbconvert_exporter": "python",
   "pygments_lexer": "ipython3",
   "version": "3.10.6"
  }
 },
 "nbformat": 4,
 "nbformat_minor": 5
}
